{
 "cells": [
  {
   "cell_type": "markdown",
   "metadata": {},
   "source": [
    "# Chatbot con spacy"
   ]
  },
  {
   "cell_type": "code",
   "execution_count": 1,
   "metadata": {},
   "outputs": [],
   "source": [
    "# pip install spacy\n",
    "# python -m spacy download en_core_web_lg\n",
    "import spacy\n",
    "from sklearn.metrics.pairwise import cosine_similarity\n",
    "\n",
    "nlp = spacy.load('en_core_web_lg')\n",
    "\n",
    "# Define possible answers\n",
    "answers = [ \"Dungeons & Dragons, commonly known as D&D, is a fantasy tabletop role-playing game where players create characters and embark on adventures in imaginary worlds filled with magic, monsters, and treasure.\",\n",
    "            \"To create a character in D&D, you'll choose a race, class, abilities, and background. Then, you'll assign ability scores, choose skills and equipment, and develop a backstory for your character.\",\n",
    "            \"D&D offers a variety of character classes, such as fighters, wizards, rogues, clerics, paladins, rangers, and more. Each class has its own unique abilities and playstyle.\",\n",
    "            \"Ability scores represent a character's innate abilities and strengths. They include Strength, Dexterity, Constitution, Intelligence, Wisdom, and Charisma. These scores affect a character's abilities, skills, and interactions in the game.\",\n",
    "            \"Combat in D&D is turn-based, with each character and creature taking actions in a specific order. Players roll dice to determine the outcome of attacks, spells, and other actions.\",\n",
    "            \"Spells are magical abilities that characters can cast to produce various effects, such as dealing damage, healing allies, or manipulating the environment. Different classes have access to different spells.\",\n",
    "            \"Some famous D&D campaigns include 'Curse of Strahd,' 'Tomb of Annihilation,' 'Storm King's Thunder,' 'Dragon Heist,' and 'Out of the Abyss,' among others.\",\n",
    "            \"The Dungeon Master is the player who acts as the game's storyteller and referee, guiding the players through the adventure, describing scenes, and controlling non-player characters (NPCs).\",\n",
    "            \"Sure! Sorcerers derive their magical abilities from innate talent, wizards learn magic through study and practice, and warlocks make pacts with otherworldly beings for their magical powers. Each class offers unique playstyles and abilities.\",\n",
    "            \"In D&D, alignment describes a character's moral and ethical outlook. The alignment system includes nine alignments, such as Lawful Good, Chaotic Neutral, and True Neutral, which help define a character's beliefs and motivations.\"]\n",
    "\n",
    "# Generate embeddings for each answer\n",
    "embeddings = [nlp(answer).vector for answer in answers]\n",
    "\n",
    "knowledge_dataset = []\n",
    "for i in range(0, len(answers)):\n",
    "    knowledge_dataset.append((answers[i], embeddings[i]))\n",
    "\n",
    "def get_userQuestionEmbedding(user_question):\n",
    "    return nlp(user_question).vector\n",
    "\n",
    "def get_most_similar_answer(user_question):\n",
    "    user_question_embedding = get_userQuestionEmbedding(user_question)\n",
    "    max_similarity = -1\n",
    "    most_similar_answer = \"\"\n",
    "    for answer, answer_embedding in knowledge_dataset:\n",
    "        print(cosine_similarity([user_question_embedding], [answer_embedding])[0][0])\n",
    "        similarity = cosine_similarity([user_question_embedding], [answer_embedding])[0][0]\n",
    "\n",
    "        if similarity > max_similarity:\n",
    "            max_similarity = similarity\n",
    "            most_similar_answer = answer\n",
    "    return most_similar_answer"
   ]
  },
  {
   "cell_type": "markdown",
   "metadata": {},
   "source": [
    "## Posibles preguntas\n",
    "\n",
    "* What is Dungeons & Dragons?\n",
    "* How do I create a character in D&D?\n",
    "* What are the different classes in D&D?\n",
    "* What are ability scores in D&D?\n",
    "* How does combat work in D&D?\n",
    "* What are spells in D&D?\n",
    "* What are some famous D&D campaigns or adventures?\n",
    "* What is a Dungeon Master (DM) in D&D?\n",
    "* Can you explain the difference between a sorcerer, wizard, and warlock in D&D?\n",
    "* How alignment work?"
   ]
  },
  {
   "cell_type": "code",
   "execution_count": 120,
   "metadata": {},
   "outputs": [
    {
     "name": "stdout",
     "output_type": "stream",
     "text": [
      "0.3237927\n",
      "0.1882038\n",
      "0.17385802\n",
      "0.19344777\n",
      "0.16902311\n",
      "0.16502814\n",
      "0.1716281\n",
      "0.21536934\n",
      "0.22480732\n",
      "0.22120376\n",
      "Dungeons & Dragons, commonly known as D&D, is a fantasy tabletop role-playing game where players create characters and embark on adventures in imaginary worlds filled with magic, monsters, and treasure.\n"
     ]
    }
   ],
   "source": [
    "user_question = \"What is Dungeons & Dragons?\"\n",
    "answer = get_most_similar_answer(user_question)\n",
    "print(answer)"
   ]
  }
 ],
 "metadata": {
  "kernelspec": {
   "display_name": "Python 3",
   "language": "python",
   "name": "python3"
  },
  "language_info": {
   "codemirror_mode": {
    "name": "ipython",
    "version": 3
   },
   "file_extension": ".py",
   "mimetype": "text/x-python",
   "name": "python",
   "nbconvert_exporter": "python",
   "pygments_lexer": "ipython3",
   "version": "3.12.2"
  }
 },
 "nbformat": 4,
 "nbformat_minor": 2
}
