{
 "cells": [
  {
   "cell_type": "markdown",
   "metadata": {},
   "source": [
    "# Chatbot con spacy"
   ]
  },
  {
   "cell_type": "code",
   "execution_count": 42,
   "metadata": {},
   "outputs": [],
   "source": [
    "# pip install spacy\n",
    "# python -m spacy download en_core_web_lg\n",
    "import spacy\n",
    "from sklearn.metrics.pairwise import cosine_similarity\n",
    "import numpy as np\n",
    "\n",
    "nlp = spacy.load('en_core_web_lg')\n",
    "\n",
    "# Define possible answers\n",
    "answers = [ \"Dungeons & Dragons is a fantasy tabletop role-playing game.\",\n",
    "            \"To create a character, you'll choose a race, class, abilities, and background.\",\n",
    "            \"Classes are fighters, wizards, rogues, clerics, paladins, rangers, and more.\",\n",
    "            \"Ability scores represent a character's innate abilities and strengths. They include Strength, Dexterity, Constitution, Intelligence, Wisdom, and Charisma.\",\n",
    "            \"Combat in D&D is turn-based, with each character and creature taking actions in a specific order.\",\n",
    "            \"Spells are magical abilities that characters can cast to produce various effects, such as dealing damage, healing allies, or manipulating the environment.\",\n",
    "            \"Some famous D&D campaigns include 'Curse of Strahd,' 'Tomb of Annihilation,' 'Storm King's Thunder,' 'Dragon Heist,' and 'Out of the Abyss,' among others.\",\n",
    "            \"The Dungeon Master (DM) is the player who acts as the game's storyteller and referee, guiding the players through the adventure, describing scenes, and controlling non-player characters (NPCs).\",\n",
    "            \"Sorcerers derive their magical abilities from innate talent, wizards learn magic through study and practice, and warlocks make pacts with otherworldly beings for their magical powers.\",\n",
    "            \"Alignment describes a character's moral and ethical outlook. The alignment help define a character's beliefs and motivations.\"]\n",
    "\n",
    "# Generate embeddings for each answer\n",
    "#embeddings = [nlp(answer.lower()).vector for answer in answers]\n",
    "embeddings = []\n",
    "for answer in answers:\n",
    "    embeddings.append(np.array([t.vector for t in nlp(answer.lower())]).mean(0).reshape(1,-1))\n",
    "\n",
    "knowledge_dataset = []\n",
    "for i in range(0, len(answers)):\n",
    "    knowledge_dataset.append((answers[i], embeddings[i]))\n",
    "\n",
    "\n",
    "def get_userQuestionEmbedding(user_question):\n",
    "    return np.array([t.vector for t in nlp(user_question.lower())]).mean(0).reshape(1,-1)\n",
    "\n",
    "def get_most_similar_answer(user_question):\n",
    "    user_question_embedding = get_userQuestionEmbedding(user_question)\n",
    "    max_similarity = -1\n",
    "    most_similar_answer = \"\"\n",
    "    for answer, answer_embedding in knowledge_dataset:\n",
    "        print(cosine_similarity(user_question_embedding, answer_embedding))\n",
    "        similarity = cosine_similarity(user_question_embedding, answer_embedding)\n",
    "\n",
    "        if similarity > max_similarity:\n",
    "            max_similarity = similarity\n",
    "            most_similar_answer = answer\n",
    "\n",
    "    return most_similar_answer"
   ]
  },
  {
   "cell_type": "markdown",
   "metadata": {},
   "source": [
    "## Posibles preguntas\n",
    "\n",
    "* What is Dungeons & Dragons?\n",
    "* How do I create a character?\n",
    "* What are the different classes?\n",
    "* What are ability scores?\n",
    "* How does combat work?\n",
    "* What are spells?\n",
    "* What are some famous campaigns or adventures?\n",
    "* What is a Dungeon Master (DM)?\n",
    "* Can you explain the difference between a sorcerer, wizard, and warlock?\n",
    "* How alignment work?"
   ]
  },
  {
   "cell_type": "code",
   "execution_count": 44,
   "metadata": {},
   "outputs": [
    {
     "name": "stdout",
     "output_type": "stream",
     "text": [
      "[[0.58590955]]\n",
      "[[0.2724832]]\n",
      "[[0.27344286]]\n",
      "[[0.29088792]]\n",
      "[[0.29198083]]\n",
      "[[0.31451812]]\n",
      "[[0.18253727]]\n",
      "[[0.25038144]]\n",
      "[[0.32359082]]\n",
      "[[0.34910378]]\n",
      "Dungeons & Dragons is a fantasy tabletop role-playing game.\n"
     ]
    }
   ],
   "source": [
    "user_question = \"What is Dungeons & Dragons?\"\n",
    "answer = get_most_similar_answer(user_question)\n",
    "print(answer)"
   ]
  }
 ],
 "metadata": {
  "kernelspec": {
   "display_name": "Python 3",
   "language": "python",
   "name": "python3"
  },
  "language_info": {
   "codemirror_mode": {
    "name": "ipython",
    "version": 3
   },
   "file_extension": ".py",
   "mimetype": "text/x-python",
   "name": "python",
   "nbconvert_exporter": "python",
   "pygments_lexer": "ipython3",
   "version": "3.12.2"
  }
 },
 "nbformat": 4,
 "nbformat_minor": 2
}
