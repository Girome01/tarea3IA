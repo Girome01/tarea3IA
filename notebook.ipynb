{
 "cells": [
  {
   "cell_type": "markdown",
   "metadata": {},
   "source": [
    "# Tarea 3 - Inteligencia Artificial\n",
    "### Alejandra González Fernández y Gilbert Rodríguez Mejias\n",
    "\n",
    "# Chatbot\n",
    "## Con Spacy"
   ]
  },
  {
   "cell_type": "code",
   "execution_count": 5,
   "metadata": {},
   "outputs": [],
   "source": [
    "# pip install spacy\n",
    "# python -m spacy download en_core_web_sm\n",
    "import spacy\n",
    "from sklearn.metrics.pairwise import cosine_similarity\n",
    "import numpy as np\n",
    "\n",
    "nlp = spacy.load('en_core_web_lg')\n",
    "\n",
    "# List of answers to common questions about Dungeons & Dragons\n",
    "answersSpacy = [ \"Dungeons & Dragons is a fantasy tabletop role-playing game.\",\n",
    "            \"To create a character, you'll choose a race, class, abilities, and background.\",\n",
    "            \"Classes are fighters, wizards, rogues, clerics, paladins, rangers, and more.\",\n",
    "            \"Ability scores represent a character's innate abilities and strengths. They include Strength, Dexterity, Constitution, Intelligence, Wisdom, and Charisma.\",\n",
    "            \"Combat in D&D is turn-based, with each character and creature taking actions in a specific order.\",\n",
    "            \"Spells are magical abilities that characters can cast to produce various effects, such as dealing damage, healing allies, or manipulating the environment.\",\n",
    "            \"Some famous D&D campaigns include 'Curse of Strahd,' 'Tomb of Annihilation,' 'Storm King's Thunder,' 'Dragon Heist,' and 'Out of the Abyss,' among others.\",\n",
    "            \"The Dungeon Master (DM) is the player who acts as the game's storyteller and referee, guiding the players through the adventure, describing scenes, and controlling non-player characters (NPCs).\",\n",
    "            \"Sorcerers derive their magical abilities from innate talent, wizards learn magic through study and practice, and warlocks make pacts with otherworldly beings for their magical powers.\",\n",
    "            \"Alignment describes a character's moral and ethical outlook. The alignment help define a character's beliefs and motivations.\"]\n",
    "\n",
    "# Generate embeddings for each answer\n",
    "# embeddings = [nlp(answer.lower()).vector for answer in answers]\n",
    "embeddingsSpacy = []\n",
    "for answer in answersSpacy:\n",
    "    embeddingsSpacy.append(np.array([t.vector for t in nlp(answer.lower())]).mean(0).reshape(1,-1)) # mean of word vectors\n",
    "\n",
    "knowledge_datasetSpacy = []\n",
    "for i in range(0, len(answersSpacy)):\n",
    "    knowledge_datasetSpacy.append((answersSpacy[i], embeddingsSpacy[i])) # tuple of answer and its embedding\n",
    "\n",
    "\n",
    "def get_userQuestionEmbeddingSpacy(user_question):\n",
    "    return np.array([t.vector for t in nlp(user_question.lower())]).mean(0).reshape(1,-1) # mean of question embedding vectors\n",
    "\n",
    "def get_most_similar_answerSpacy(user_question):\n",
    "    user_question_embeddingSpacy = get_userQuestionEmbeddingSpacy(user_question)\n",
    "    max_similaritySpacy = -1\n",
    "    most_similar_answerSpacy = \"\"\n",
    "    for answer, answer_embedding in knowledge_datasetSpacy:\n",
    "        print(cosine_similarity(user_question_embeddingSpacy, answer_embedding))\n",
    "        similarity = cosine_similarity(user_question_embeddingSpacy, answer_embedding) # cosine similarity\n",
    "\n",
    "        if similarity > max_similaritySpacy:\n",
    "            max_similaritySpacy = similarity\n",
    "            most_similar_answerSpacy = answer\n",
    "\n",
    "    return most_similar_answerSpacy"
   ]
  },
  {
   "cell_type": "markdown",
   "metadata": {},
   "source": [
    "## Con Transformers modelo Bert"
   ]
  },
  {
   "cell_type": "code",
   "execution_count": 6,
   "metadata": {},
   "outputs": [
    {
     "name": "stderr",
     "output_type": "stream",
     "text": [
      "d:\\Tec\\IA\\.venv\\Lib\\site-packages\\tqdm\\auto.py:21: TqdmWarning: IProgress not found. Please update jupyter and ipywidgets. See https://ipywidgets.readthedocs.io/en/stable/user_install.html\n",
      "  from .autonotebook import tqdm as notebook_tqdm\n"
     ]
    }
   ],
   "source": [
    "import torch\n",
    "from transformers import BertModel, BertTokenizer\n",
    "from sklearn.metrics.pairwise import cosine_similarity\n",
    "import numpy as np\n",
    "\n",
    "# Load pre-trained BERT model and tokenizer\n",
    "model = BertModel.from_pretrained('bert-large-uncased')\n",
    "tokenizer = BertTokenizer.from_pretrained('bert-large-uncased')\n",
    "\n",
    "# List of answers to common questions about Dungeons & Dragons\n",
    "answers = [ \"Dungeons & Dragons is a fantasy tabletop role-playing game.\",\n",
    "            \"To create a character, you'll choose a race, class, abilities, and background.\",\n",
    "            \"Classes are fighters, wizards, rogues, clerics, paladins, rangers, and more.\",\n",
    "            \"Ability scores represent a character's innate abilities and strengths. They include Strength, Dexterity, Constitution, Intelligence, Wisdom, and Charisma.\",\n",
    "            \"Combat in D&D is turn-based, with each character and creature taking actions in a specific order.\",\n",
    "            \"Spells are magical abilities that characters can cast to produce various effects, such as dealing damage, healing allies, or manipulating the environment.\",\n",
    "            \"Some famous D&D campaigns include 'Curse of Strahd,' 'Tomb of Annihilation,' 'Storm King's Thunder,' 'Dragon Heist,' and 'Out of the Abyss,' among others.\",\n",
    "            \"The Dungeon Master (DM) is the player who acts as the game's storyteller and referee, guiding the players through the adventure, describing scenes, and controlling non-player characters (NPCs).\",\n",
    "            \"Sorcerers derive their magical abilities from innate talent, wizards learn magic through study and practice, and warlocks make pacts with otherworldly beings for their magical powers.\",\n",
    "            \"Alignment describes a character's moral and ethical outlook. The alignment help define a character's beliefs and motivations.\"]\n",
    "\n",
    "# Generate embeddings for each answer\n",
    "# embeddings = [nlp(answer.lower()).vector for answer in answers]\n",
    "answers_tokens = [tokenizer.encode(answer.lower(), return_tensors='pt') for answer in answers]\n",
    "\n",
    "with torch.no_grad():\n",
    "    embeddings = [model(answers_token)[0][:, 0, :].numpy() for answers_token in answers_tokens]\n",
    "\n",
    "knowledge_dataset = []\n",
    "for i in range(0, len(answers)):\n",
    "    knowledge_dataset.append((answers[i], embeddings[i])) # tuple of answer and its embedding\n",
    "\n",
    "\n",
    "def get_userQuestionEmbedding(user_question):\n",
    "    question_tokens = tokenizer.encode(user_question.lower(), return_tensors='pt')\n",
    "    with torch.no_grad():\n",
    "        question_embedding = model(question_tokens)[0][:, 0, :].numpy()  # Take the [CLS] token embedding for the question\n",
    "    return question_embedding\n",
    "\n",
    "def get_most_similar_answer(user_question):\n",
    "    user_question_embedding = get_userQuestionEmbedding(user_question)\n",
    "    max_similarity = -1\n",
    "    most_similar_answer = \"\"\n",
    "    for answer, answer_embedding in knowledge_dataset:\n",
    "        print(cosine_similarity(user_question_embedding, answer_embedding))\n",
    "        similarity = cosine_similarity(user_question_embedding, answer_embedding) # cosine similarity\n",
    "\n",
    "        if similarity > max_similarity:\n",
    "            max_similarity = similarity\n",
    "            most_similar_answer = answer\n",
    "\n",
    "    return most_similar_answer"
   ]
  },
  {
   "cell_type": "markdown",
   "metadata": {},
   "source": [
    "## Posibles preguntas\n",
    "\n",
    "* What is Dungeons & Dragons?\n",
    "* How do I create a character?\n",
    "* What are the different classes?\n",
    "* What are ability scores?\n",
    "* How does combat work?\n",
    "* What are spells?\n",
    "* What are some famous campaigns or adventures?\n",
    "* What is a Dungeon Master (DM)?\n",
    "* Can you explain the difference between a sorcerer, wizard, and warlock?\n",
    "* How alignment work?"
   ]
  },
  {
   "cell_type": "code",
   "execution_count": 19,
   "metadata": {},
   "outputs": [
    {
     "name": "stdout",
     "output_type": "stream",
     "text": [
      "Usin Spacy\n",
      "[[0.5876517]]\n",
      "[[0.9241441]]\n",
      "[[0.7811913]]\n",
      "[[0.8717209]]\n",
      "[[0.82002825]]\n",
      "[[0.8646748]]\n",
      "[[0.5361411]]\n",
      "[[0.71873486]]\n",
      "[[0.84280837]]\n",
      "[[0.84880126]]\n",
      "To create a character, you'll choose a race, class, abilities, and background.\n",
      "Using BERT\n",
      "[[0.7186961]]\n",
      "[[0.7812069]]\n",
      "[[0.7476671]]\n",
      "[[0.7673046]]\n",
      "[[0.7575501]]\n",
      "[[0.7672875]]\n",
      "[[0.7755226]]\n",
      "[[0.74145865]]\n",
      "[[0.79439735]]\n",
      "[[0.7583243]]\n",
      "Sorcerers derive their magical abilities from innate talent, wizards learn magic through study and practice, and warlocks make pacts with otherworldly beings for their magical powers.\n"
     ]
    }
   ],
   "source": [
    "user_question = \"Can you explain the difference between a sorcerer, wizard, and warlock?\"\n",
    "print(\"Usin Spacy\")\n",
    "answerSpacy = get_most_similar_answerSpacy(user_question)\n",
    "print(answerSpacy)\n",
    "\n",
    "print(\"Using BERT\")\n",
    "answer = get_most_similar_answer(user_question)\n",
    "print(answer)"
   ]
  }
 ],
 "metadata": {
  "kernelspec": {
   "display_name": "Python 3",
   "language": "python",
   "name": "python3"
  },
  "language_info": {
   "codemirror_mode": {
    "name": "ipython",
    "version": 3
   },
   "file_extension": ".py",
   "mimetype": "text/x-python",
   "name": "python",
   "nbconvert_exporter": "python",
   "pygments_lexer": "ipython3",
   "version": "3.12.2"
  }
 },
 "nbformat": 4,
 "nbformat_minor": 2
}
